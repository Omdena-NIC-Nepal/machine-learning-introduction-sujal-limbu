{
 "cells": [
  {
   "cell_type": "code",
   "execution_count": 14,
   "metadata": {},
   "outputs": [],
   "source": [
    "from sklearn.model_selection import train_test_split\n",
    "from sklearn.preprocessing import StandardScaler\n",
    "import pandas as pd\n",
    "# Load dataset (replace 'your_dataset.csv' with your actual dataset file)\n",
    "df = pd.read_csv('../data/BostonHousing.csv').rename(columns=str.upper)\n",
    "\n",
    "# Handle outliers (example for 'RM')\n",
    "q1 = df['RM'].quantile(0.25)\n",
    "q3 = df['RM'].quantile(0.75)\n",
    "iqr = q3 - q1\n",
    "df = df[(df['RM'] > q1 - 1.5*iqr) & (df['RM'] < q3 + 1.5*iqr)]\n",
    "df = df[(df['RM'] > q1 - 1.5*iqr) & (df['RM'] < q3 + 1.5*iqr)]\n",
    "\n",
    "# Split features and target\n",
    "X = df.drop('MEDV', axis=1)\n",
    "y = df['MEDV']\n",
    "\n",
    "# Split data\n",
    "X_train, X_test, y_train, y_test = train_test_split(X, y, test_size=0.2, random_state=42)\n",
    "\n",
    "# Scale features\n",
    "scaler = StandardScaler()\n",
    "X_train_scaled = scaler.fit_transform(X_train)\n",
    "X_test_scaled = scaler.transform(X_test)"
   ]
  }
 ],
 "metadata": {
  "kernelspec": {
   "display_name": "base",
   "language": "python",
   "name": "python3"
  },
  "language_info": {
   "codemirror_mode": {
    "name": "ipython",
    "version": 3
   },
   "file_extension": ".py",
   "mimetype": "text/x-python",
   "name": "python",
   "nbconvert_exporter": "python",
   "pygments_lexer": "ipython3",
   "version": "3.12.7"
  }
 },
 "nbformat": 4,
 "nbformat_minor": 2
}
