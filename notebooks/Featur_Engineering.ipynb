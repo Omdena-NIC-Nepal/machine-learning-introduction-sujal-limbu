{
 "cells": [
  {
   "cell_type": "code",
   "execution_count": 6,
   "metadata": {},
   "outputs": [],
   "source": [
    "\n",
    "import pandas as pd\n",
    "\n",
    "df = pd.read_csv('../data/BostonHousing.csv')\n",
    "df['RM_LSTAT'] = df['rm'] * df['lstat']\n",
    "df['NOX_DIS'] = df['nox'] * df['dis']\n",
    "df['LSTAT_sq'] = df['lstat']**2\n",
    "df['RM_sq'] = df['rm']**2\n",
    "\n",
    "\n",
    "X = df.drop('medv', axis=1)\n"
   ]
  }
 ],
 "metadata": {
  "kernelspec": {
   "display_name": "base",
   "language": "python",
   "name": "python3"
  },
  "language_info": {
   "codemirror_mode": {
    "name": "ipython",
    "version": 3
   },
   "file_extension": ".py",
   "mimetype": "text/x-python",
   "name": "python",
   "nbconvert_exporter": "python",
   "pygments_lexer": "ipython3",
   "version": "3.12.7"
  }
 },
 "nbformat": 4,
 "nbformat_minor": 2
}
